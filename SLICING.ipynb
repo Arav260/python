{
 "cells": [
  {
   "cell_type": "code",
   "execution_count": 1,
   "id": "ad0c6258-eecb-4609-b92c-2eff3e9ddcab",
   "metadata": {},
   "outputs": [
    {
     "name": "stdout",
     "output_type": "stream",
     "text": [
      "AravAgr\n"
     ]
    }
   ],
   "source": [
    "x = 'AravAgrawal'\n",
    "print(x[0:7])"
   ]
  },
  {
   "cell_type": "code",
   "execution_count": 2,
   "id": "ab01ef40-fc18-4327-9c8b-6c28878e6fd5",
   "metadata": {},
   "outputs": [
    {
     "name": "stdout",
     "output_type": "stream",
     "text": [
      "AravAgrawal\n"
     ]
    }
   ],
   "source": [
    "print(x[0:])"
   ]
  },
  {
   "cell_type": "code",
   "execution_count": 3,
   "id": "37ae1a46-19f7-4617-9721-96a4c78ad631",
   "metadata": {},
   "outputs": [
    {
     "name": "stdout",
     "output_type": "stream",
     "text": [
      "AravAgrawal\n"
     ]
    }
   ],
   "source": [
    "print(x[:12])"
   ]
  },
  {
   "cell_type": "code",
   "execution_count": 6,
   "id": "4cc65f10-0443-43b0-ac68-61c90369573d",
   "metadata": {},
   "outputs": [
    {
     "name": "stdout",
     "output_type": "stream",
     "text": [
      "avAgrawal\n"
     ]
    }
   ],
   "source": [
    "print(x[2:11])"
   ]
  },
  {
   "cell_type": "code",
   "execution_count": 7,
   "id": "bf286922-b5f0-4c2a-8fcf-5e2af40f7dad",
   "metadata": {},
   "outputs": [
    {
     "name": "stdout",
     "output_type": "stream",
     "text": [
      "o\n"
     ]
    }
   ],
   "source": [
    "y = 'Hello'\n",
    "print(y[-1])"
   ]
  },
  {
   "cell_type": "code",
   "execution_count": 14,
   "id": "4d21c168-ac75-4025-8716-03b12f71de73",
   "metadata": {},
   "outputs": [
    {
     "name": "stdout",
     "output_type": "stream",
     "text": [
      "llo\n"
     ]
    }
   ],
   "source": [
    "Y = 'Hello'\n",
    "print(y[-3:])"
   ]
  },
  {
   "cell_type": "code",
   "execution_count": 10,
   "id": "68842d4c-3be2-4958-b773-4637d4a216d1",
   "metadata": {},
   "outputs": [
    {
     "name": "stdout",
     "output_type": "stream",
     "text": [
      "ello\n"
     ]
    }
   ],
   "source": [
    "Y = 'Hello'\n",
    "print(y[-4:])"
   ]
  },
  {
   "cell_type": "code",
   "execution_count": 11,
   "id": "3a801fd9-6411-473d-98fc-eb50889784ba",
   "metadata": {},
   "outputs": [
    {
     "name": "stdout",
     "output_type": "stream",
     "text": [
      "Hello\n"
     ]
    }
   ],
   "source": [
    "Y = 'Hello'\n",
    "print(y[-5:])"
   ]
  },
  {
   "cell_type": "code",
   "execution_count": 12,
   "id": "d300467d-5a65-4508-9118-f14a3db3b413",
   "metadata": {},
   "outputs": [
    {
     "name": "stdout",
     "output_type": "stream",
     "text": [
      "Hello\n"
     ]
    }
   ],
   "source": [
    "Y = 'Hello'\n",
    "print(y[-0:])"
   ]
  },
  {
   "cell_type": "code",
   "execution_count": 13,
   "id": "82ec0727-0026-4461-a5bf-9d36e892c604",
   "metadata": {},
   "outputs": [
    {
     "name": "stdout",
     "output_type": "stream",
     "text": [
      "H\n"
     ]
    }
   ],
   "source": [
    "Y = 'Hello'\n",
    "print(y[0])"
   ]
  },
  {
   "cell_type": "code",
   "execution_count": 15,
   "id": "a827773e-35ad-4ae5-aebc-c830a37677da",
   "metadata": {},
   "outputs": [
    {
     "name": "stdout",
     "output_type": "stream",
     "text": [
      "e\n"
     ]
    }
   ],
   "source": [
    "Y = 'Hello'\n",
    "print(y[-4:-3:])"
   ]
  },
  {
   "cell_type": "code",
   "execution_count": 16,
   "id": "739038ea-42be-4fe2-ab84-91da9cdf8b74",
   "metadata": {},
   "outputs": [
    {
     "name": "stdout",
     "output_type": "stream",
     "text": [
      "H\n"
     ]
    }
   ],
   "source": [
    "Y = 'Hello'\n",
    "print(y[0:-4])"
   ]
  },
  {
   "cell_type": "code",
   "execution_count": 20,
   "id": "654b83b8-42ac-4082-ae22-60fc26708b1f",
   "metadata": {},
   "outputs": [
    {
     "name": "stdout",
     "output_type": "stream",
     "text": [
      "l\n"
     ]
    }
   ],
   "source": [
    "Y = 'Hello'\n",
    "print(y[-2:-1])"
   ]
  },
  {
   "cell_type": "code",
   "execution_count": null,
   "id": "e1c5b926-988d-40a8-b7d8-3cc278f0fe44",
   "metadata": {},
   "outputs": [],
   "source": []
  }
 ],
 "metadata": {
  "kernelspec": {
   "display_name": "Python 3 (ipykernel)",
   "language": "python",
   "name": "python3"
  },
  "language_info": {
   "codemirror_mode": {
    "name": "ipython",
    "version": 3
   },
   "file_extension": ".py",
   "mimetype": "text/x-python",
   "name": "python",
   "nbconvert_exporter": "python",
   "pygments_lexer": "ipython3",
   "version": "3.11.7"
  }
 },
 "nbformat": 4,
 "nbformat_minor": 5
}
