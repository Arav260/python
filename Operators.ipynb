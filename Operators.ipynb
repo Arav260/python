{
 "cells": [
  {
   "cell_type": "code",
   "execution_count": 4,
   "id": "b45b0576-f465-4969-a14e-36d5f3152e4b",
   "metadata": {},
   "outputs": [],
   "source": [
    "x = 15\n",
    "y = 30"
   ]
  },
  {
   "cell_type": "code",
   "execution_count": 10,
   "id": "d143bed7-6332-4423-b6aa-1177f34aa06c",
   "metadata": {},
   "outputs": [
    {
     "name": "stdout",
     "output_type": "stream",
     "text": [
      "45\n"
     ]
    }
   ],
   "source": [
    "print(x+y)"
   ]
  },
  {
   "cell_type": "code",
   "execution_count": 7,
   "id": "938c208f-1f60-4372-8816-2e1e705557a0",
   "metadata": {},
   "outputs": [
    {
     "name": "stdout",
     "output_type": "stream",
     "text": [
      "-15\n"
     ]
    }
   ],
   "source": [
    "print(x-y)"
   ]
  },
  {
   "cell_type": "code",
   "execution_count": 8,
   "id": "db8236dd-0f99-4bff-936e-bf4e70a5e6d1",
   "metadata": {},
   "outputs": [
    {
     "name": "stdout",
     "output_type": "stream",
     "text": [
      "0.5\n"
     ]
    }
   ],
   "source": [
    "print(x/y)"
   ]
  },
  {
   "cell_type": "code",
   "execution_count": 15,
   "id": "cf2fc41d-d9b4-4ee0-8ae2-8e745ac77234",
   "metadata": {},
   "outputs": [
    {
     "name": "stdout",
     "output_type": "stream",
     "text": [
      "1\n"
     ]
    }
   ],
   "source": [
    "print(x//y)"
   ]
  },
  {
   "cell_type": "code",
   "execution_count": 11,
   "id": "88e49792-3c29-484b-b009-1d94d596287a",
   "metadata": {},
   "outputs": [
    {
     "name": "stdout",
     "output_type": "stream",
     "text": [
      "450\n"
     ]
    }
   ],
   "source": [
    "print(x*y)"
   ]
  },
  {
   "cell_type": "code",
   "execution_count": 14,
   "id": "9c00474b-628a-4d28-9c03-4220803fcbae",
   "metadata": {},
   "outputs": [
    {
     "name": "stdout",
     "output_type": "stream",
     "text": [
      "1\n"
     ]
    }
   ],
   "source": [
    "x = 6\n",
    "y = 5\n",
    "print(x%y)"
   ]
  },
  {
   "cell_type": "code",
   "execution_count": 13,
   "id": "5742d538-58d2-4aab-9dee-893841a19b60",
   "metadata": {},
   "outputs": [
    {
     "name": "stdout",
     "output_type": "stream",
     "text": [
      "1.2\n"
     ]
    }
   ],
   "source": [
    "print(x/y)"
   ]
  },
  {
   "cell_type": "code",
   "execution_count": 13,
   "id": "a9aaaff5-8c07-4cce-9619-6b41d84fd69b",
   "metadata": {},
   "outputs": [
    {
     "name": "stdout",
     "output_type": "stream",
     "text": [
      "1\n"
     ]
    }
   ],
   "source": [
    "print(x//y)"
   ]
  },
  {
   "cell_type": "code",
   "execution_count": 2,
   "id": "11e9de28-8543-4299-aaad-1ab6dc2493ed",
   "metadata": {},
   "outputs": [
    {
     "name": "stdout",
     "output_type": "stream",
     "text": [
      "4\n"
     ]
    }
   ],
   "source": [
    "x = 2\n",
    "y = 2\n",
    "print(x**y)"
   ]
  },
  {
   "cell_type": "code",
   "execution_count": 11,
   "id": "d9a2128d-0d1c-4506-ba3e-cd0c0c43b8bf",
   "metadata": {},
   "outputs": [
    {
     "name": "stdout",
     "output_type": "stream",
     "text": [
      "1\n"
     ]
    }
   ],
   "source": [
    "print(x//y)"
   ]
  },
  {
   "cell_type": "code",
   "execution_count": 17,
   "id": "67050895-3f04-4e10-9cd2-64892d8c6682",
   "metadata": {},
   "outputs": [
    {
     "name": "stdout",
     "output_type": "stream",
     "text": [
      "7\n"
     ]
    }
   ],
   "source": [
    "s = 23\n",
    "f = 3\n",
    "print(s//f)"
   ]
  },
  {
   "cell_type": "code",
   "execution_count": 18,
   "id": "86258236-cd2c-408d-8dad-72dd757ddc42",
   "metadata": {},
   "outputs": [
    {
     "name": "stdout",
     "output_type": "stream",
     "text": [
      "True\n"
     ]
    }
   ],
   "source": [
    "g = 23\n",
    "f = 34\n",
    "print(g!=f)"
   ]
  },
  {
   "cell_type": "code",
   "execution_count": 19,
   "id": "cc12af5e-160d-42b7-897e-33c3898acb3f",
   "metadata": {},
   "outputs": [
    {
     "name": "stdout",
     "output_type": "stream",
     "text": [
      "False\n"
     ]
    }
   ],
   "source": [
    "print(g>=f)"
   ]
  },
  {
   "cell_type": "code",
   "execution_count": 20,
   "id": "32a809c1-eebc-4f78-8da4-793278347263",
   "metadata": {},
   "outputs": [
    {
     "name": "stdout",
     "output_type": "stream",
     "text": [
      "True\n"
     ]
    }
   ],
   "source": [
    "print(g<=f)"
   ]
  },
  {
   "cell_type": "code",
   "execution_count": null,
   "id": "145dd82b-6d51-4ea6-b577-d2b42797ffe1",
   "metadata": {},
   "outputs": [],
   "source": []
  }
 ],
 "metadata": {
  "kernelspec": {
   "display_name": "Python 3 (ipykernel)",
   "language": "python",
   "name": "python3"
  },
  "language_info": {
   "codemirror_mode": {
    "name": "ipython",
    "version": 3
   },
   "file_extension": ".py",
   "mimetype": "text/x-python",
   "name": "python",
   "nbconvert_exporter": "python",
   "pygments_lexer": "ipython3",
   "version": "3.11.7"
  }
 },
 "nbformat": 4,
 "nbformat_minor": 5
}
