{
 "cells": [
  {
   "cell_type": "code",
   "execution_count": 1,
   "id": "dd1625c7-9885-4952-8237-9ff3758bc5cd",
   "metadata": {},
   "outputs": [
    {
     "name": "stdout",
     "output_type": "stream",
     "text": [
      "10\n"
     ]
    }
   ],
   "source": [
    "a = 10\n",
    "print(a)\n"
   ]
  },
  {
   "cell_type": "code",
   "execution_count": 2,
   "id": "60bc3458-ed1e-4177-8427-b4df3451f0a4",
   "metadata": {},
   "outputs": [
    {
     "name": "stdout",
     "output_type": "stream",
     "text": [
      "11\n"
     ]
    }
   ],
   "source": [
    "a = 11\n",
    "print(a)"
   ]
  },
  {
   "cell_type": "code",
   "execution_count": 3,
   "id": "a47d6af6-7e8b-4b96-bd57-a11fefd73919",
   "metadata": {},
   "outputs": [
    {
     "name": "stdout",
     "output_type": "stream",
     "text": [
      "ARAV\n"
     ]
    }
   ],
   "source": [
    "a = \"ARAV\"\n",
    "print(a)"
   ]
  },
  {
   "cell_type": "code",
   "execution_count": 4,
   "id": "4a9fecae-5ff7-4e4c-b5b4-aded6ce452cb",
   "metadata": {},
   "outputs": [
    {
     "name": "stdout",
     "output_type": "stream",
     "text": [
      "True\n"
     ]
    }
   ],
   "source": [
    "print(10>5)"
   ]
  },
  {
   "cell_type": "code",
   "execution_count": 5,
   "id": "89da759d-c6ab-4a1a-9d52-7c2c049b2eac",
   "metadata": {},
   "outputs": [
    {
     "name": "stdout",
     "output_type": "stream",
     "text": [
      "True\n"
     ]
    }
   ],
   "source": [
    "print(5<10)"
   ]
  },
  {
   "cell_type": "code",
   "execution_count": 6,
   "id": "cb6aae8e-b584-4971-ba5d-3eef0a33dde6",
   "metadata": {},
   "outputs": [
    {
     "name": "stdout",
     "output_type": "stream",
     "text": [
      "True\n"
     ]
    }
   ],
   "source": [
    "print(15==15)"
   ]
  },
  {
   "cell_type": "code",
   "execution_count": 7,
   "id": "b2217ad7-3d08-4207-b832-09d8cfe95e9e",
   "metadata": {},
   "outputs": [
    {
     "name": "stdout",
     "output_type": "stream",
     "text": [
      "False\n"
     ]
    }
   ],
   "source": [
    "print (12<=2)"
   ]
  },
  {
   "cell_type": "code",
   "execution_count": 9,
   "id": "827b5656-4d3b-4461-9396-ba34d00a8cbb",
   "metadata": {},
   "outputs": [
    {
     "name": "stdout",
     "output_type": "stream",
     "text": [
      "True\n"
     ]
    }
   ],
   "source": [
    "print(2!=5)"
   ]
  },
  {
   "cell_type": "code",
   "execution_count": 10,
   "id": "bfc85f9f-7c08-4294-8460-4b0fb5c1a0dd",
   "metadata": {},
   "outputs": [
    {
     "name": "stdout",
     "output_type": "stream",
     "text": [
      "False\n"
     ]
    }
   ],
   "source": [
    "print(5!=5)"
   ]
  },
  {
   "cell_type": "code",
   "execution_count": 3,
   "id": "4a37544f-155d-4345-b188-40979e4ed11d",
   "metadata": {},
   "outputs": [
    {
     "name": "stdout",
     "output_type": "stream",
     "text": [
      "True\n"
     ]
    }
   ],
   "source": [
    "a=45\n",
    "b=84\n",
    "print (b>a)\n"
   ]
  },
  {
   "cell_type": "code",
   "execution_count": 5,
   "id": "87687a9f-9a95-421a-b4b6-ce37d0853ce9",
   "metadata": {},
   "outputs": [
    {
     "name": "stdout",
     "output_type": "stream",
     "text": [
      "False\n"
     ]
    }
   ],
   "source": [
    "a=34\n",
    "b=56\n",
    "print (a>b)\n"
   ]
  },
  {
   "cell_type": "code",
   "execution_count": 6,
   "id": "b181fdee-fd06-4097-8a7f-a5affdf02674",
   "metadata": {},
   "outputs": [
    {
     "name": "stdout",
     "output_type": "stream",
     "text": [
      "True\n"
     ]
    }
   ],
   "source": [
    "a=54\n",
    "b=89\n",
    "print (a<b)"
   ]
  },
  {
   "cell_type": "code",
   "execution_count": 7,
   "id": "70bff3a5-fb2a-431a-b040-feb0f6353a4f",
   "metadata": {},
   "outputs": [
    {
     "name": "stdout",
     "output_type": "stream",
     "text": [
      "False\n"
     ]
    }
   ],
   "source": [
    "a=67\n",
    "b=56\n",
    "print (b==a)"
   ]
  },
  {
   "cell_type": "code",
   "execution_count": 8,
   "id": "1ea70751-cf66-45e2-9253-6daa8d14c649",
   "metadata": {},
   "outputs": [
    {
     "name": "stdout",
     "output_type": "stream",
     "text": [
      "False\n"
     ]
    }
   ],
   "source": [
    "a=56\n",
    "b=68\n",
    "print (b<a)"
   ]
  },
  {
   "cell_type": "markdown",
   "id": "5411c6c0-9b79-4dd0-98e9-8ba7d7128c6e",
   "metadata": {},
   "source": []
  },
  {
   "cell_type": "code",
   "execution_count": 9,
   "id": "904afc7d-ba03-43a2-8ac3-1ce496326f64",
   "metadata": {},
   "outputs": [
    {
     "name": "stdout",
     "output_type": "stream",
     "text": [
      "True\n"
     ]
    }
   ],
   "source": [
    "a=45\n",
    "b=54\n",
    "print (a!=b)"
   ]
  },
  {
   "cell_type": "code",
   "execution_count": 10,
   "id": "d55429d8-25b1-413d-9fef-f727f1561ab2",
   "metadata": {},
   "outputs": [
    {
     "name": "stdout",
     "output_type": "stream",
     "text": [
      "True\n"
     ]
    }
   ],
   "source": [
    "a=89\n",
    "b=67\n",
    "print (b!=a)"
   ]
  },
  {
   "cell_type": "markdown",
   "id": "8685d5f7-d978-4677-97cd-3861208b1a58",
   "metadata": {},
   "source": []
  },
  {
   "cell_type": "code",
   "execution_count": 13,
   "id": "113cf6c9-ca3d-4fca-ae6e-a31c4d30047d",
   "metadata": {},
   "outputs": [
    {
     "name": "stdout",
     "output_type": "stream",
     "text": [
      "True\n"
     ]
    }
   ],
   "source": [
    "a=66\n",
    "b=78\n",
    "print (a<=b)\n"
   ]
  },
  {
   "cell_type": "code",
   "execution_count": 14,
   "id": "88869360-bb8a-4e3f-90cf-edeb06ac2c46",
   "metadata": {},
   "outputs": [
    {
     "name": "stdout",
     "output_type": "stream",
     "text": [
      "True\n"
     ]
    }
   ],
   "source": [
    "a=89\n",
    "b=64\n",
    "print (a>=b)"
   ]
  },
  {
   "cell_type": "code",
   "execution_count": null,
   "id": "cb346e8f-c7e9-4296-b9f6-dc7478b7c03e",
   "metadata": {},
   "outputs": [],
   "source": []
  }
 ],
 "metadata": {
  "kernelspec": {
   "display_name": "Python 3 (ipykernel)",
   "language": "python",
   "name": "python3"
  },
  "language_info": {
   "codemirror_mode": {
    "name": "ipython",
    "version": 3
   },
   "file_extension": ".py",
   "mimetype": "text/x-python",
   "name": "python",
   "nbconvert_exporter": "python",
   "pygments_lexer": "ipython3",
   "version": "3.11.7"
  }
 },
 "nbformat": 4,
 "nbformat_minor": 5
}
