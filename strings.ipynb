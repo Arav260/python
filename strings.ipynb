{
 "cells": [
  {
   "cell_type": "code",
   "execution_count": 1,
   "id": "31a45a1c-a54b-43c7-a1ac-b88083035a7a",
   "metadata": {},
   "outputs": [
    {
     "name": "stdout",
     "output_type": "stream",
     "text": [
      "Arav\n"
     ]
    }
   ],
   "source": [
    "print(\"Arav\")"
   ]
  },
  {
   "cell_type": "code",
   "execution_count": 2,
   "id": "ce4923d7-dcd8-445f-b4e2-2fa08486612a",
   "metadata": {},
   "outputs": [
    {
     "name": "stdout",
     "output_type": "stream",
     "text": [
      "May I borrow your pen.\n"
     ]
    }
   ],
   "source": [
    "a = \"May I borrow your pen.\"\n",
    "print(a)"
   ]
  },
  {
   "cell_type": "code",
   "execution_count": 3,
   "id": "ec0f2d56-2523-4446-b61d-558264d69ef3",
   "metadata": {},
   "outputs": [
    {
     "name": "stdout",
     "output_type": "stream",
     "text": [
      "M\n"
     ]
    }
   ],
   "source": [
    "print(a[0])"
   ]
  },
  {
   "cell_type": "code",
   "execution_count": 4,
   "id": "789f3f58-0dd3-4896-92e3-76788e2b18d4",
   "metadata": {},
   "outputs": [
    {
     "name": "stdout",
     "output_type": "stream",
     "text": [
      "r\n"
     ]
    }
   ],
   "source": [
    "b = 'Arav'\n",
    "print(b[1])\n",
    "\n",
    "# A string is like an array. We can get invidival letters using indexes."
   ]
  },
  {
   "cell_type": "code",
   "execution_count": 5,
   "id": "23993d36-0dc2-4ca8-af86-57a80fe02c5b",
   "metadata": {},
   "outputs": [
    {
     "name": "stdout",
     "output_type": "stream",
     "text": [
      "A\n",
      "r\n",
      "a\n",
      "v\n"
     ]
    }
   ],
   "source": [
    "print(b[0])\n",
    "print(b[1])\n",
    "print(b[2])\n",
    "print(b[3])\n",
    "            \n",
    "            "
   ]
  },
  {
   "cell_type": "code",
   "execution_count": 7,
   "id": "021a7c4b-4c62-4013-9436-a0d4f5bdd0a3",
   "metadata": {},
   "outputs": [
    {
     "name": "stdout",
     "output_type": "stream",
     "text": [
      "A\n",
      "r\n",
      "a\n",
      "v\n"
     ]
    }
   ],
   "source": [
    "for x in 'Arav':\n",
    "    print(x)\n",
    "\n",
    "# We can use a loop to access all the alphabets of string.\n",
    "# You can directly use a string as used above."
   ]
  },
  {
   "cell_type": "code",
   "execution_count": 8,
   "id": "7b26f40a-ea56-40c2-a0fa-a0debbe49ba0",
   "metadata": {},
   "outputs": [
    {
     "name": "stdout",
     "output_type": "stream",
     "text": [
      "A\n",
      "r\n",
      "a\n",
      "v\n"
     ]
    }
   ],
   "source": [
    "for x in b:\n",
    "    print(x)\n",
    "    # you can also use a varibale to print all the alphobets individually."
   ]
  },
  {
   "cell_type": "code",
   "execution_count": 10,
   "id": "e0a00a80-c81d-492c-9784-3f0885a0b8f6",
   "metadata": {},
   "outputs": [
    {
     "name": "stdout",
     "output_type": "stream",
     "text": [
      "52\n"
     ]
    }
   ],
   "source": [
    "flower = 'This is a chinese Rose, which blooms well in winter.'\n",
    "print(len(flower))\n",
    "\n",
    "# lenghth function, len(), is used to find the lenght of a string."
   ]
  },
  {
   "cell_type": "code",
   "execution_count": 11,
   "id": "1e61238c-e4d1-4150-a803-e04701a72deb",
   "metadata": {},
   "outputs": [
    {
     "name": "stdout",
     "output_type": "stream",
     "text": [
      "True\n"
     ]
    }
   ],
   "source": [
    "print('Rose' in flower)\n",
    "\n",
    "# if you want to check whether a world is A part of a string, you can use 'in' Keyword. "
   ]
  },
  {
   "cell_type": "code",
   "execution_count": 12,
   "id": "b258317e-2d28-482d-a63a-49977510ab79",
   "metadata": {},
   "outputs": [
    {
     "name": "stdout",
     "output_type": "stream",
     "text": [
      "False\n"
     ]
    }
   ],
   "source": [
    "print('rose' in flower)"
   ]
  },
  {
   "cell_type": "code",
   "execution_count": 13,
   "id": "b3c82afc-7e7f-4e53-9008-afdc021161cc",
   "metadata": {},
   "outputs": [
    {
     "name": "stdout",
     "output_type": "stream",
     "text": [
      "Yes present\n"
     ]
    }
   ],
   "source": [
    "if 'Rose' in flower:\n",
    "    print('Yes present')\n",
    "else:\n",
    "    print('Not present')\n",
    "\n",
    "# you can also use if-else to check whether a world is presentor not."
   ]
  },
  {
   "cell_type": "code",
   "execution_count": null,
   "id": "89df949e-3b0e-42f7-a5ef-c3296a9797c7",
   "metadata": {},
   "outputs": [],
   "source": []
  }
 ],
 "metadata": {
  "kernelspec": {
   "display_name": "Python 3 (ipykernel)",
   "language": "python",
   "name": "python3"
  },
  "language_info": {
   "codemirror_mode": {
    "name": "ipython",
    "version": 3
   },
   "file_extension": ".py",
   "mimetype": "text/x-python",
   "name": "python",
   "nbconvert_exporter": "python",
   "pygments_lexer": "ipython3",
   "version": "3.11.7"
  }
 },
 "nbformat": 4,
 "nbformat_minor": 5
}
