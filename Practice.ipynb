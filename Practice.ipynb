{
 "cells": [
  {
   "cell_type": "code",
   "execution_count": 1,
   "id": "d69c0090-f087-4a1e-aad8-6a23f4d82d2f",
   "metadata": {},
   "outputs": [
    {
     "name": "stdout",
     "output_type": "stream",
     "text": [
      "Arav\n"
     ]
    }
   ],
   "source": [
    "b = 'Arav'\n",
    "print(b)"
   ]
  },
  {
   "cell_type": "code",
   "execution_count": 2,
   "id": "f28b733e-5ca1-4057-8c7e-7f94337808e8",
   "metadata": {},
   "outputs": [
    {
     "name": "stdout",
     "output_type": "stream",
     "text": [
      "May i drink water\n"
     ]
    }
   ],
   "source": [
    "k = 'May i drink water'\n",
    "print(k)"
   ]
  },
  {
   "cell_type": "code",
   "execution_count": 3,
   "id": "9e9814c6-02a8-47a5-b933-991c8637878e",
   "metadata": {},
   "outputs": [
    {
     "name": "stdout",
     "output_type": "stream",
     "text": [
      "A\n"
     ]
    }
   ],
   "source": [
    "b = 'Arav'\n",
    "print(b[0])"
   ]
  },
  {
   "cell_type": "code",
   "execution_count": 4,
   "id": "8992f2d7-4da2-43bd-8e9d-a9a07fee819c",
   "metadata": {},
   "outputs": [
    {
     "name": "stdout",
     "output_type": "stream",
     "text": [
      "A\n",
      "r\n",
      "a\n",
      "v\n"
     ]
    }
   ],
   "source": [
    "print(b[0])\n",
    "print(b[1])\n",
    "print(b[2])\n",
    "print(b[3])\n",
    "\n"
   ]
  },
  {
   "cell_type": "code",
   "execution_count": 5,
   "id": "3d8fb839-5001-4322-bc52-08de19143972",
   "metadata": {},
   "outputs": [
    {
     "name": "stdout",
     "output_type": "stream",
     "text": [
      "A\n",
      "r\n",
      "a\n",
      "v\n"
     ]
    }
   ],
   "source": [
    "for x in b:\n",
    "    print(x)"
   ]
  },
  {
   "cell_type": "code",
   "execution_count": 7,
   "id": "06c27576-77a3-45da-8b78-7bb7292960d8",
   "metadata": {},
   "outputs": [
    {
     "name": "stdout",
     "output_type": "stream",
     "text": [
      "25\n"
     ]
    }
   ],
   "source": [
    "flower = 'The colour of rose is red'\n",
    "print(len(flower))"
   ]
  },
  {
   "cell_type": "code",
   "execution_count": 8,
   "id": "9bd52d55-fa89-4816-9df5-6cee45cbab1d",
   "metadata": {},
   "outputs": [
    {
     "name": "stdout",
     "output_type": "stream",
     "text": [
      "True\n"
     ]
    }
   ],
   "source": [
    "print('colour' in flower)"
   ]
  },
  {
   "cell_type": "code",
   "execution_count": 9,
   "id": "14438871-ee7f-4b6f-a8b0-d0d4bdf8ba48",
   "metadata": {},
   "outputs": [
    {
     "name": "stdout",
     "output_type": "stream",
     "text": [
      "False\n"
     ]
    }
   ],
   "source": [
    "print('Colour' in flower)"
   ]
  },
  {
   "cell_type": "code",
   "execution_count": 14,
   "id": "7199f1cf-adfa-410d-9c43-8fd12b38b70e",
   "metadata": {},
   "outputs": [
    {
     "name": "stdout",
     "output_type": "stream",
     "text": [
      "not present\n"
     ]
    }
   ],
   "source": [
    "if 'Colour' in flower:\n",
    "    print('yes present')\n",
    "else:\n",
    "   print('not present')"
   ]
  },
  {
   "cell_type": "code",
   "execution_count": 15,
   "id": "442ce8b9-9c14-479e-bf76-145cd1c2e27a",
   "metadata": {},
   "outputs": [
    {
     "name": "stdout",
     "output_type": "stream",
     "text": [
      "Sun Flower\n"
     ]
    }
   ],
   "source": [
    "x = 'Sun Flower'\n",
    "print(x[0:])"
   ]
  },
  {
   "cell_type": "code",
   "execution_count": 17,
   "id": "532c9ad4-8a02-4e57-93a3-ca81629e748b",
   "metadata": {},
   "outputs": [
    {
     "name": "stdout",
     "output_type": "stream",
     "text": [
      "ORANGE\n"
     ]
    }
   ],
   "source": [
    "name = 'orange'\n",
    "print(name.upper())"
   ]
  },
  {
   "cell_type": "code",
   "execution_count": 18,
   "id": "d3ca86ff-736e-4c9d-8e4a-6b0badd7ea0a",
   "metadata": {},
   "outputs": [
    {
     "name": "stdout",
     "output_type": "stream",
     "text": [
      "apple\n"
     ]
    }
   ],
   "source": [
    "name = 'APPLE'\n",
    "print(name.lower())"
   ]
  },
  {
   "cell_type": "code",
   "execution_count": 20,
   "id": "fb082f47-c748-4dd5-80a4-f3ec1fb33b9b",
   "metadata": {},
   "outputs": [
    {
     "name": "stdout",
     "output_type": "stream",
     "text": [
      "Arav Agrawal\n"
     ]
    }
   ],
   "source": [
    "string = 'Arav Agrawal'\n",
    "print(string.strip())"
   ]
  },
  {
   "cell_type": "code",
   "execution_count": 22,
   "id": "74b9bc90-b182-49e8-9205-d9f9beba542b",
   "metadata": {},
   "outputs": [
    {
     "name": "stdout",
     "output_type": "stream",
     "text": [
      "Arav Agrawal\n"
     ]
    }
   ],
   "source": [
    "strins = 'Arav Agrawal'\n",
    "print(string)"
   ]
  },
  {
   "cell_type": "code",
   "execution_count": 41,
   "id": "d4730ef1-c639-4e1c-aede-9bed3a9dd8d6",
   "metadata": {},
   "outputs": [
    {
     "name": "stdout",
     "output_type": "stream",
     "text": [
      "Hiello, Arav\n"
     ]
    }
   ],
   "source": [
    "string = 'Hello, Arav'\n",
    "print(string.replace('H',\"Hi\"))"
   ]
  },
  {
   "cell_type": "code",
   "execution_count": 44,
   "id": "39cf9ab0-1fa8-4f78-beb5-dc5d721a8a1d",
   "metadata": {},
   "outputs": [
    {
     "name": "stdout",
     "output_type": "stream",
     "text": [
      "Tello,Arav\n"
     ]
    }
   ],
   "source": [
    "string = 'Hello,Arav'\n",
    "print(string.replace('H','T'))"
   ]
  },
  {
   "cell_type": "code",
   "execution_count": 56,
   "id": "3e796984-8acf-4674-873d-e7bf5478a495",
   "metadata": {},
   "outputs": [
    {
     "name": "stdout",
     "output_type": "stream",
     "text": [
      "Hello,Arav\n"
     ]
    }
   ],
   "source": [
    "'Hello;Arav'\n",
    "print(string.replace('Hello;Arav','Hi'))"
   ]
  },
  {
   "cell_type": "code",
   "execution_count": 57,
   "id": "7c01b5ea-8db9-49a2-9bf5-626993f7587d",
   "metadata": {},
   "outputs": [
    {
     "name": "stdout",
     "output_type": "stream",
     "text": [
      "['Hello', 'Arav']\n"
     ]
    }
   ],
   "source": [
    "d = 'Hello,Arav'\n",
    "print(d.split(','))"
   ]
  },
  {
   "cell_type": "code",
   "execution_count": 61,
   "id": "05f8bfc0-f37b-4c0c-a404-4a4e18b431c3",
   "metadata": {},
   "outputs": [
    {
     "name": "stdout",
     "output_type": "stream",
     "text": [
      "['My name is arav agrawal.I am study in 7th. My father name is ashish agrawal']\n"
     ]
    }
   ],
   "source": [
    "j = 'My name is arav agrawal.I am study in 7th. My father name is ashish agrawal'\n",
    "print(j.split(','))    "
   ]
  },
  {
   "cell_type": "code",
   "execution_count": 62,
   "id": "4ab9f7b0-1d37-4039-b271-fae9b6f68fc2",
   "metadata": {},
   "outputs": [
    {
     "name": "stdout",
     "output_type": "stream",
     "text": [
      "['My name is arav agrawal', 'I am study in 7th', ' My father name is ashish agrawal']\n"
     ]
    }
   ],
   "source": [
    "j = 'My name is arav agrawal.I am study in 7th. My father name is ashish agrawal'\n",
    "print(j.split('.'))    "
   ]
  },
  {
   "cell_type": "code",
   "execution_count": null,
   "id": "72c0b725-46d4-4bda-8704-80c184b7a2a4",
   "metadata": {},
   "outputs": [],
   "source": []
  }
 ],
 "metadata": {
  "kernelspec": {
   "display_name": "Python 3 (ipykernel)",
   "language": "python",
   "name": "python3"
  },
  "language_info": {
   "codemirror_mode": {
    "name": "ipython",
    "version": 3
   },
   "file_extension": ".py",
   "mimetype": "text/x-python",
   "name": "python",
   "nbconvert_exporter": "python",
   "pygments_lexer": "ipython3",
   "version": "3.11.7"
  }
 },
 "nbformat": 4,
 "nbformat_minor": 5
}
